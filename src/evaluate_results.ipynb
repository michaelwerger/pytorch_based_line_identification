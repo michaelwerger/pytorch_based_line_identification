{
 "cells": [
  {
   "cell_type": "code",
   "execution_count": 7,
   "id": "b322c011-f29d-4977-9fa6-f5c72d2712dd",
   "metadata": {
    "editable": true,
    "slideshow": {
     "slide_type": ""
    },
    "tags": []
   },
   "outputs": [
    {
     "name": "stderr",
     "output_type": "stream",
     "text": [
      "2024-02-27 16:09:21.942756: I external/local_tsl/tsl/cuda/cudart_stub.cc:31] Could not find cuda drivers on your machine, GPU will not be used.\n",
      "2024-02-27 16:09:30.044991: E external/local_xla/xla/stream_executor/cuda/cuda_dnn.cc:9261] Unable to register cuDNN factory: Attempting to register factory for plugin cuDNN when one has already been registered\n",
      "2024-02-27 16:09:30.056309: E external/local_xla/xla/stream_executor/cuda/cuda_fft.cc:607] Unable to register cuFFT factory: Attempting to register factory for plugin cuFFT when one has already been registered\n",
      "2024-02-27 16:09:32.595250: E external/local_xla/xla/stream_executor/cuda/cuda_blas.cc:1515] Unable to register cuBLAS factory: Attempting to register factory for plugin cuBLAS when one has already been registered\n",
      "2024-02-27 16:09:36.897484: I external/local_tsl/tsl/cuda/cudart_stub.cc:31] Could not find cuda drivers on your machine, GPU will not be used.\n",
      "2024-02-27 16:09:36.929345: I tensorflow/core/platform/cpu_feature_guard.cc:182] This TensorFlow binary is optimized to use available CPU instructions in performance-critical operations.\n",
      "To enable the following instructions: AVX2 FMA, in other operations, rebuild TensorFlow with the appropriate compiler flags.\n",
      "2024-02-27 16:10:12.828099: W tensorflow/compiler/tf2tensorrt/utils/py_utils.cc:38] TF-TRT Warning: Could not find TensorRT\n"
     ]
    }
   ],
   "source": [
    "import os\n",
    "import sys\n",
    "import matplotlib.pyplot as plt\n",
    "from matplotlib.image import AxesImage, NonUniformImage\n",
    "import numpy as np\n",
    "import math\n",
    "from scipy.interpolate import interp1d\n",
    "from PIL import Image\n",
    "import cv2\n",
    "import shutil\n",
    "import random\n",
    "import uuid\n",
    "\n",
    "from sklearn.model_selection import train_test_split\n",
    "from tensorflow.keras.models import load_model\n",
    "from sklearn.utils import shuffle\n",
    "\n",
    "import tensorflow as tf\n",
    "\n",
    "sys.path.append(os.path.join(os.getcwd(),'..'))\n",
    "from lib import find_nearest_index, FigureSize"
   ]
  },
  {
   "cell_type": "code",
   "execution_count": 8,
   "id": "1e98af49-8ea2-40dc-9d10-3a855c9c0e2f",
   "metadata": {},
   "outputs": [],
   "source": [
    "from pathlib import Path"
   ]
  },
  {
   "cell_type": "code",
   "execution_count": 9,
   "id": "84429b6a-9a4d-4c42-a856-7e421a8ac9fd",
   "metadata": {},
   "outputs": [],
   "source": [
    "TRAINDATA_PATH = Path('/mnt/c/Workspace/keras_based_line_identification/data/train/')"
   ]
  },
  {
   "cell_type": "code",
   "execution_count": 10,
   "id": "e2c58a40-3c4f-4b07-9359-aba0356d39c0",
   "metadata": {},
   "outputs": [],
   "source": [
    "file1 = Path(TRAINDATA_PATH,'6217.28','6217.28.000649.BMP')"
   ]
  },
  {
   "cell_type": "code",
   "execution_count": 11,
   "id": "03a16cd9-3ea8-4e47-b45e-fb8b70981dd1",
   "metadata": {},
   "outputs": [
    {
     "name": "stdout",
     "output_type": "stream",
     "text": [
      "/mnt/c/Workspace/keras_based_line_identification/data/train/6217.28/6217.28.000649.BMP\n"
     ]
    }
   ],
   "source": [
    "print(str(file1))"
   ]
  },
  {
   "cell_type": "code",
   "execution_count": 13,
   "id": "c8df2e33-1a1c-4a10-b77f-31a5c85a1c18",
   "metadata": {},
   "outputs": [],
   "source": [
    "with open(str(file1),'rb') as im1_f:\n",
    "    im1 = im1_f.read()"
   ]
  },
  {
   "cell_type": "code",
   "execution_count": 18,
   "id": "12da6fc1-49d1-4cb7-8876-c2a194204e22",
   "metadata": {},
   "outputs": [],
   "source": [
    "tmp = np.array([int(x) for x in im1])"
   ]
  },
  {
   "cell_type": "code",
   "execution_count": 19,
   "id": "543b660b-74be-4054-8210-de1eac52c9e3",
   "metadata": {},
   "outputs": [
    {
     "ename": "ValueError",
     "evalue": "cannot reshape array of size 2102 into shape (32,32)",
     "output_type": "error",
     "traceback": [
      "\u001b[0;31m---------------------------------------------------------------------------\u001b[0m",
      "\u001b[0;31mValueError\u001b[0m                                Traceback (most recent call last)",
      "Cell \u001b[0;32mIn[19], line 1\u001b[0m\n\u001b[0;32m----> 1\u001b[0m im1_int \u001b[38;5;241m=\u001b[39m \u001b[43mtmp\u001b[49m\u001b[38;5;241;43m.\u001b[39;49m\u001b[43mreshape\u001b[49m\u001b[43m(\u001b[49m\u001b[43m(\u001b[49m\u001b[38;5;241;43m32\u001b[39;49m\u001b[43m,\u001b[49m\u001b[38;5;241;43m32\u001b[39;49m\u001b[43m)\u001b[49m\u001b[43m)\u001b[49m\n",
      "\u001b[0;31mValueError\u001b[0m: cannot reshape array of size 2102 into shape (32,32)"
     ]
    }
   ],
   "source": [
    "im1_int = tmp.reshape((32,32))"
   ]
  },
  {
   "cell_type": "code",
   "execution_count": null,
   "id": "3a87abf1-331e-40e2-aa3e-78b7f4926630",
   "metadata": {},
   "outputs": [],
   "source": []
  }
 ],
 "metadata": {
  "kernelspec": {
   "display_name": "Python 3 (ipykernel)",
   "language": "python",
   "name": "python3"
  },
  "language_info": {
   "codemirror_mode": {
    "name": "ipython",
    "version": 3
   },
   "file_extension": ".py",
   "mimetype": "text/x-python",
   "name": "python",
   "nbconvert_exporter": "python",
   "pygments_lexer": "ipython3",
   "version": "3.10.12"
  }
 },
 "nbformat": 4,
 "nbformat_minor": 5
}
